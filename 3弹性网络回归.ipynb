{
 "cells": [
  {
   "cell_type": "code",
   "execution_count": 1,
   "metadata": {},
   "outputs": [],
   "source": [
    "from sklearn import datasets  \n",
    "import numpy as np\n",
    "import matplotlib as mpl\n",
    "import matplotlib.pyplot as plt\n",
    "import pandas as pd"
   ]
  },
  {
   "cell_type": "code",
   "execution_count": 2,
   "metadata": {},
   "outputs": [],
   "source": [
    "##数据分割为训练数据和测试数据\n",
    "from sklearn.model_selection import train_test_split"
   ]
  },
  {
   "cell_type": "code",
   "execution_count": 3,
   "metadata": {},
   "outputs": [],
   "source": [
    "#使用ElasticNet模型\n",
    "from sklearn.linear_model import ElasticNetCV\n",
    "import sklearn.datasets\n",
    "from pprint import pprint"
   ]
  },
  {
   "cell_type": "code",
   "execution_count": 5,
   "metadata": {},
   "outputs": [],
   "source": [
    "#数据预处理\n",
    "from sklearn.preprocessing import PolynomialFeatures, StandardScaler\n",
    "from sklearn.pipeline import Pipeline\n",
    "from sklearn.metrics import mean_squared_error\n",
    "import warnings"
   ]
  },
  {
   "cell_type": "code",
   "execution_count": 17,
   "metadata": {},
   "outputs": [
    {
     "name": "stdout",
     "output_type": "stream",
     "text": [
      "样本个数：506, 特征个数：13\n",
      "(506,)\n"
     ]
    }
   ],
   "source": [
    "if __name__ == \"__main__\":\n",
    "\n",
    "    '''加载数据'''\n",
    "    # 消除警告\n",
    "    warnings.filterwarnings(action='ignore')\n",
    "    # 设置浮点精度\n",
    "    np.set_printoptions(suppress=True)\n",
    "    # 读取数据\n",
    "    file_data = datasets.load_boston()#从自带数据库中下载波士顿房价数据\n",
    "    # print(file_data)\n",
    "    # a = np.array([float(s) for s in str if s != ''])\n",
    "     #将数据分为两部分，并赋值\n",
    "    #将data设为维度为(len(file_data), 14)的值\n",
    "    data = np.empty((len(file_data), 14))\n",
    "    data = sklearn.datasets.load_boston()\n",
    "    #print(data)\n",
    "    # 特征值\n",
    "    x = np.array(data.data)\n",
    "    # 目标值\n",
    "    y = np.array(data.target)\n",
    "    print(u'样本个数：%d, 特征个数：%d' % x.shape)\n",
    "    print(y.shape)\n",
    "    y = y.ravel()\n",
    "    #"
   ]
  },
  {
   "cell_type": "code",
   "execution_count": 15,
   "metadata": {},
   "outputs": [
    {
     "name": "stdout",
     "output_type": "stream",
     "text": [
      "开始建模...\n",
      "超参数： 0.01778279410038923\n",
      "L1 ratio： 0.99\n"
     ]
    }
   ],
   "source": [
    " '''训练集，测试集，训练模型'''\n",
    "# 数据分为训练集和测试集\n",
    "# random_state：是随机数的种子,随机数种子为0时，产生不同的随机数，\n",
    "x_train, x_test, y_train, y_test = train_test_split(x, y, train_size=0.7, random_state=0)\n",
    "# 线性分类\n",
    "model = Pipeline([\n",
    "    ('ss', StandardScaler()),\n",
    "# ElasticNet回归\n",
    "('poly', PolynomialFeatures(degree=3, include_bias=True)),\n",
    "('linear', ElasticNetCV(l1_ratio=[0.1, 0.3, 0.5, 0.7, 0.99, 1], alphas=np.logspace(-3, 2, 5),\n",
    "fit_intercept=False, max_iter=1e3, cv=3))\n",
    "])\n",
    "print (u'开始建模...')\n",
    "# 拟合模型\n",
    "model.fit(x_train, y_train)\n",
    "# 获得模型的参数\n",
    "linear = model.get_params('linear')['linear']\n",
    "print (u'超参数：', linear.alpha_)\n",
    "print (u'L1 ratio：', linear.l1_ratio_)\n",
    "# argsort的：对数据进行排序，然后提取其原来的索引\n",
    "# 测试数据做递增排序\n",
    "order = y_test.argsort(axis=0)\n",
    "y_test = y_test[order]\n",
    "x_test = x_test[order, :]\n",
    "# 使用测试数据测试模型\n",
    "y_pred = model.predict(x_test)\n",
    "\n",
    "# '''计算R2，MSE'''\n",
    "# # 为模型进行打分 r2越大，拟合效果越好，最优值为1"
   ]
  },
  {
   "cell_type": "code",
   "execution_count": null,
   "metadata": {},
   "outputs": [],
   "source": []
  }
 ],
 "metadata": {
  "kernelspec": {
   "display_name": "Python 3",
   "language": "python",
   "name": "python3"
  },
  "language_info": {
   "codemirror_mode": {
    "name": "ipython",
    "version": 3
   },
   "file_extension": ".py",
   "mimetype": "text/x-python",
   "name": "python",
   "nbconvert_exporter": "python",
   "pygments_lexer": "ipython3",
   "version": "3.8.3"
  }
 },
 "nbformat": 4,
 "nbformat_minor": 4
}
