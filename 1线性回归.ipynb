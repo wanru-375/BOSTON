{
 "cells": [
  {
   "cell_type": "code",
   "execution_count": 1,
   "metadata": {},
   "outputs": [],
   "source": [
    "from sklearn.datasets import load_boston#导入波士顿房价"
   ]
  },
  {
   "cell_type": "code",
   "execution_count": 2,
   "metadata": {},
   "outputs": [],
   "source": [
    "Boston = load_boston()\n",
    "x = Boston.data\n",
    "y = Boston.target"
   ]
  },
  {
   "cell_type": "code",
   "execution_count": 3,
   "metadata": {},
   "outputs": [
    {
     "data": {
      "text/plain": [
       "(506, 13)"
      ]
     },
     "execution_count": 3,
     "metadata": {},
     "output_type": "execute_result"
    }
   ],
   "source": [
    "x.shape"
   ]
  },
  {
   "cell_type": "code",
   "execution_count": 4,
   "metadata": {},
   "outputs": [
    {
     "data": {
      "text/plain": [
       "(506,)"
      ]
     },
     "execution_count": 4,
     "metadata": {},
     "output_type": "execute_result"
    }
   ],
   "source": [
    "y.shape"
   ]
  },
  {
   "cell_type": "code",
   "execution_count": 5,
   "metadata": {},
   "outputs": [],
   "source": [
    "from sklearn.model_selection import train_test_split\n",
    "from sklearn.linear_model import LinearRegression#导入线性回归\n",
    "x_train,x_test,y_train,y_test = train_test_split(x,y,test_size=0.25,random_state=8888)#随机数种子888"
   ]
  },
  {
   "cell_type": "code",
   "execution_count": 6,
   "metadata": {},
   "outputs": [
    {
     "data": {
      "text/plain": [
       "(379, 13)"
      ]
     },
     "execution_count": 6,
     "metadata": {},
     "output_type": "execute_result"
    }
   ],
   "source": [
    "x_train.shape"
   ]
  },
  {
   "cell_type": "code",
   "execution_count": 7,
   "metadata": {},
   "outputs": [
    {
     "data": {
      "text/plain": [
       "(379,)"
      ]
     },
     "execution_count": 7,
     "metadata": {},
     "output_type": "execute_result"
    }
   ],
   "source": [
    "y_train.shape"
   ]
  },
  {
   "cell_type": "code",
   "execution_count": 8,
   "metadata": {},
   "outputs": [],
   "source": [
    "lin_reg = LinearRegression()"
   ]
  },
  {
   "cell_type": "code",
   "execution_count": 9,
   "metadata": {},
   "outputs": [
    {
     "data": {
      "text/plain": [
       "LinearRegression()"
      ]
     },
     "execution_count": 9,
     "metadata": {},
     "output_type": "execute_result"
    }
   ],
   "source": [
    "lin_reg.fit(x_train,y_train)"
   ]
  },
  {
   "cell_type": "code",
   "execution_count": 10,
   "metadata": {},
   "outputs": [
    {
     "data": {
      "text/plain": [
       "0.655307502465893"
      ]
     },
     "execution_count": 10,
     "metadata": {},
     "output_type": "execute_result"
    }
   ],
   "source": [
    "lin_reg.score(x_test,y_test)"
   ]
  },
  {
   "cell_type": "code",
   "execution_count": 11,
   "metadata": {},
   "outputs": [
    {
     "data": {
      "text/plain": [
       "array([-9.13411564e-02,  4.48703721e-02,  7.62517414e-02,  1.27702871e+00,\n",
       "       -1.69771636e+01,  3.62148964e+00,  1.00466048e-02, -1.40744662e+00,\n",
       "        2.78613689e-01, -1.33786996e-02, -1.00698680e+00,  8.07502948e-03,\n",
       "       -5.90844378e-01])"
      ]
     },
     "execution_count": 11,
     "metadata": {},
     "output_type": "execute_result"
    }
   ],
   "source": [
    "lin_reg.coef_"
   ]
  },
  {
   "cell_type": "code",
   "execution_count": 12,
   "metadata": {},
   "outputs": [
    {
     "data": {
      "text/plain": [
       "[<matplotlib.lines.Line2D at 0x1a61292f460>]"
      ]
     },
     "execution_count": 12,
     "metadata": {},
     "output_type": "execute_result"
    },
    {
     "data": {
      "image/png": "[encoded data removed]",
      "text/plain": [
       "<Figure size 432x288 with 1 Axes>"
      ]
     },
     "metadata": {
      "needs_background": "light"
     },
     "output_type": "display_data"
    }
   ],
   "source": [
    "import matplotlib.pyplot as plt\n",
    "%matplotlib inline\n",
    "plt.plot(lin_reg.coef_)"
   ]
  },
  {
   "cell_type": "code",
   "execution_count": 13,
   "metadata": {},
   "outputs": [],
   "source": [
    "import numpy as np"
   ]
  },
  {
   "cell_type": "code",
   "execution_count": 14,
   "metadata": {},
   "outputs": [
    {
     "data": {
      "text/plain": [
       "array([26.01824278, 32.83764445, 31.23702213, 18.43607856, 21.74470153,\n",
       "       25.30325656, 33.07275201, 23.52043588,  4.97629544, 28.08604364,\n",
       "       25.84477394, 23.69273084, 22.39589003, 23.96664293, 15.62367648,\n",
       "       22.84930187, 23.74387629, 24.26025481, 23.74111433, 18.41520037,\n",
       "       16.62824166, 12.85423571, 12.44296559, 25.00882485, 17.80430688,\n",
       "       18.60424285, 34.78915073, 20.87912626, 39.71830396, 25.56527278,\n",
       "       35.40878997, 13.17984423, 28.87530454, 33.63098039, 23.06550849,\n",
       "       15.9973978 , 12.76584501, 26.19008873, 30.73519799, 18.02032904,\n",
       "       20.08125403, 23.91376289, 19.67718122, 18.62128595, 23.8153475 ,\n",
       "       39.91066658, 25.24877905, 33.59283953, 23.55196654, 24.03444687,\n",
       "       16.95259422, 28.77387859, 19.85335887, 24.88144456, 22.41132787,\n",
       "       19.61503468, 25.61165899, 16.21968461, 27.16406259, 20.70178202,\n",
       "       20.18216313, 16.4288409 , 21.29248317, 16.52566048, 18.09752743,\n",
       "       20.54296255, 27.80198892, 21.58163674, 14.78583275, 20.32862453,\n",
       "       21.06430187, 33.38786029, 22.69705115, 25.24741288, 20.81553196,\n",
       "       30.59151326, 24.08235704, 14.11231036, 12.49967939,  7.10197258,\n",
       "       27.21958246, 37.95583221, 24.24844141,  8.00259132, 19.7826263 ,\n",
       "       20.83627241, 12.96012888, 27.88176086, 20.88567385, 15.48821638,\n",
       "       12.91806523, 16.98765544, 18.88229824, 22.24555423, 21.73336023,\n",
       "       16.84639963, 27.10731182, 11.21243617, 25.08753132, 28.10611017,\n",
       "       19.25890767, 34.73466733, 26.6808212 , 18.27935473, 20.00355799,\n",
       "       33.22842773, 24.06837199, 21.27156824, 21.95736277, 15.68399241,\n",
       "       19.97985206, 16.42492688,  9.9004828 , 16.3735486 , 40.716614  ,\n",
       "       34.74277275, 17.29483756, 14.12627942, 21.26198545,  5.71808982,\n",
       "       16.74648246, 29.43957368, 28.87925487, 21.76194284, 24.15974235,\n",
       "       20.08328412, 15.63381302])"
      ]
     },
     "execution_count": 14,
     "metadata": {},
     "output_type": "execute_result"
    }
   ],
   "source": [
    "lin_reg.predict(x_test)#对测试集进行预测"
   ]
  },
  {
   "cell_type": "code",
   "execution_count": 15,
   "metadata": {},
   "outputs": [
    {
     "data": {
      "text/plain": [
       "array([22.2, 27. , 30.8, 17.5, 20.7, 24. , 37.2, 20.8, 13.8, 26.6, 30.1,\n",
       "       17.4, 22.2, 18.9, 20. , 26.4, 20.3, 22.2, 21.4, 14.5, 19.1, 13.4,\n",
       "       10.5, 21.7, 18.1, 18.2, 39.8, 19.3, 43.5, 21.6, 35.1, 18.5, 25.1,\n",
       "       50. , 11.9,  8.5, 12.7, 21.6, 29.4, 12.6, 21.4, 24.4, 18.2, 20.8,\n",
       "       23. , 50. , 23.1, 31.7, 19.4, 19.2, 17.1, 24.4, 20.1, 50. , 25. ,\n",
       "       27.5, 23.3, 20.2, 22. , 18.7, 20.5, 10.2, 22.4, 18.4, 14.2, 22.9,\n",
       "       36.2, 18.7, 10.9, 21.7, 20.6, 28.5, 19.8, 15. , 18.8, 24.3, 20.3,\n",
       "       18.2, 15.2,  8.5, 23.9, 37.6, 21.9, 11.9, 18.4, 21.7, 17.2, 25. ,\n",
       "       22.7, 19.3, 11.3, 17.5, 16.4, 19.3, 18.8, 23.2, 23.7, 12.7, 23.8,\n",
       "       36.2, 18.9, 31. , 22.6, 20.1, 20.3, 32. , 24.4, 21.7, 22.5, 16.6,\n",
       "       17.7, 19.1, 23.7, 10.2, 50. , 34.6, 14.1, 13.3, 21.2, 10.2, 18.6,\n",
       "       22.8, 33.4, 21.7, 22.2, 15.6, 15.4])"
      ]
     },
     "execution_count": 15,
     "metadata": {},
     "output_type": "execute_result"
    }
   ],
   "source": [
    "y_test#真实房价"
   ]
  },
  {
   "cell_type": "code",
   "execution_count": 16,
   "metadata": {},
   "outputs": [
    {
     "data": {
      "text/plain": [
       "(127,)"
      ]
     },
     "execution_count": 16,
     "metadata": {},
     "output_type": "execute_result"
    }
   ],
   "source": [
    "y_test.shape"
   ]
  },
  {
   "cell_type": "code",
   "execution_count": 17,
   "metadata": {},
   "outputs": [],
   "source": [
    "deviation = lin_reg.predict(x_test)-y_test"
   ]
  },
  {
   "cell_type": "code",
   "execution_count": 18,
   "metadata": {},
   "outputs": [
    {
     "data": {
      "text/plain": [
       "array([  3.81824278,   5.83764445,   0.43702213,   0.93607856,\n",
       "         1.04470153,   1.30325656,  -4.12724799,   2.72043588,\n",
       "        -8.82370456,   1.48604364,  -4.25522606,   6.29273084,\n",
       "         0.19589003,   5.06664293,  -4.37632352,  -3.55069813,\n",
       "         3.44387629,   2.06025481,   2.34111433,   3.91520037,\n",
       "        -2.47175834,  -0.54576429,   1.94296559,   3.30882485,\n",
       "        -0.29569312,   0.40424285,  -5.01084927,   1.57912626,\n",
       "        -3.78169604,   3.96527278,   0.30878997,  -5.32015577,\n",
       "         3.77530454, -16.36901961,  11.16550849,   7.4973978 ,\n",
       "         0.06584501,   4.59008873,   1.33519799,   5.42032904,\n",
       "        -1.31874597,  -0.48623711,   1.47718122,  -2.17871405,\n",
       "         0.8153475 , -10.08933342,   2.14877905,   1.89283953,\n",
       "         4.15196654,   4.83444687,  -0.14740578,   4.37387859,\n",
       "        -0.24664113, -25.11855544,  -2.58867213,  -7.88496532,\n",
       "         2.31165899,  -3.98031539,   5.16406259,   2.00178202,\n",
       "        -0.31783687,   6.2288409 ,  -1.10751683,  -1.87433952,\n",
       "         3.89752743,  -2.35703745,  -8.39801108,   2.88163674,\n",
       "         3.88583275,  -1.37137547,   0.46430187,   4.88786029,\n",
       "         2.89705115,  10.24741288,   2.01553196,   6.29151326,\n",
       "         3.78235704,  -4.08768964,  -2.70032061,  -1.39802742,\n",
       "         3.31958246,   0.35583221,   2.34844141,  -3.89740868,\n",
       "         1.3826263 ,  -0.86372759,  -4.23987112,   2.88176086,\n",
       "        -1.81432615,  -3.81178362,   1.61806523,  -0.51234456,\n",
       "         2.48229824,   2.94555423,   2.93336023,  -6.35360037,\n",
       "         3.40731182,  -1.48756383,   1.28753132,  -8.09388983,\n",
       "         0.35890767,   3.73466733,   4.0808212 ,  -1.82064527,\n",
       "        -0.29644201,   1.22842773,  -0.33162801,  -0.42843176,\n",
       "        -0.54263723,  -0.91600759,   2.27985206,  -2.67507312,\n",
       "       -13.7995172 ,   6.1735486 ,  -9.283386  ,   0.14277275,\n",
       "         3.19483756,   0.82627942,   0.06198545,  -4.48191018,\n",
       "        -1.85351754,   6.63957368,  -4.52074513,   0.06194284,\n",
       "         1.95974235,   4.48328412,   0.23381302])"
      ]
     },
     "execution_count": 18,
     "metadata": {},
     "output_type": "execute_result"
    }
   ],
   "source": [
    "deviation"
   ]
  },
  {
   "cell_type": "code",
   "execution_count": 19,
   "metadata": {},
   "outputs": [],
   "source": [
    "rmse = np.sum(np.sqrt(deviation * deviation))/102#求得均方根误差"
   ]
  },
  {
   "cell_type": "code",
   "execution_count": 20,
   "metadata": {},
   "outputs": [
    {
     "data": {
      "text/plain": [
       "4.234676396133105"
      ]
     },
     "execution_count": 20,
     "metadata": {},
     "output_type": "execute_result"
    }
   ],
   "source": [
    "rmse"
   ]
  },
  {
   "cell_type": "code",
   "execution_count": null,
   "metadata": {},
   "outputs": [],
   "source": []
  }
 ],
 "metadata": {
  "kernelspec": {
   "display_name": "Python 3",
   "language": "python",
   "name": "python3"
  },
  "language_info": {
   "codemirror_mode": {
    "name": "ipython",
    "version": 3
   },
   "file_extension": ".py",
   "mimetype": "text/x-python",
   "name": "python",
   "nbconvert_exporter": "python",
   "pygments_lexer": "ipython3",
   "version": "3.8.3"
  }
 },
 "nbformat": 4,
 "nbformat_minor": 4
}
